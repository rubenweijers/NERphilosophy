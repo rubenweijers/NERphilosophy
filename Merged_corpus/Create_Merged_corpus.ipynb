{
 "cells": [
  {
   "cell_type": "code",
   "execution_count": 11,
   "id": "5369a4c3",
   "metadata": {},
   "outputs": [],
   "source": [
    "import nltk\n",
    "from nltk.corpus import webtext"
   ]
  },
  {
   "cell_type": "code",
   "execution_count": 5,
   "id": "ac5e924e",
   "metadata": {},
   "outputs": [
    {
     "data": {
      "text/plain": [
       "['austen-emma.txt',\n",
       " 'austen-persuasion.txt',\n",
       " 'austen-sense.txt',\n",
       " 'bible-kjv.txt',\n",
       " 'blake-poems.txt',\n",
       " 'bryant-stories.txt',\n",
       " 'burgess-busterbrown.txt',\n",
       " 'carroll-alice.txt',\n",
       " 'chesterton-ball.txt',\n",
       " 'chesterton-brown.txt',\n",
       " 'chesterton-thursday.txt',\n",
       " 'edgeworth-parents.txt',\n",
       " 'melville-moby_dick.txt',\n",
       " 'milton-paradise.txt',\n",
       " 'shakespeare-caesar.txt',\n",
       " 'shakespeare-hamlet.txt',\n",
       " 'shakespeare-macbeth.txt',\n",
       " 'whitman-leaves.txt']"
      ]
     },
     "execution_count": 5,
     "metadata": {},
     "output_type": "execute_result"
    }
   ],
   "source": [
    "#Generate the multiple text file names in the Gutenberg corpus\n",
    "nltk.corpus.gutenberg.fileids()"
   ]
  },
  {
   "cell_type": "code",
   "execution_count": 7,
   "id": "41357331",
   "metadata": {},
   "outputs": [],
   "source": [
    "filenames = [\n",
    "    'austen-emma.txt',\n",
    " 'austen-persuasion.txt',\n",
    " 'austen-sense.txt',\n",
    " 'bible-kjv.txt',\n",
    " 'blake-poems.txt',\n",
    " 'bryant-stories.txt',\n",
    " 'burgess-busterbrown.txt',\n",
    " 'carroll-alice.txt',\n",
    " 'chesterton-ball.txt',\n",
    " 'chesterton-brown.txt',\n",
    " 'chesterton-thursday.txt',\n",
    " 'edgeworth-parents.txt',\n",
    " 'melville-moby_dick.txt',\n",
    " 'milton-paradise.txt',\n",
    " 'shakespeare-caesar.txt',\n",
    " 'shakespeare-hamlet.txt',\n",
    " 'shakespeare-macbeth.txt',\n",
    " 'whitman-leaves.txt'\n",
    "]\n",
    "\n",
    "with open(\"data/gutenberg.txt\", \"w\") as f:\n",
    "    for filename in filenames:\n",
    "        f.write(nltk.corpus.gutenberg.raw(filename))"
   ]
  },
  {
   "cell_type": "code",
   "execution_count": 12,
   "id": "22532dc9",
   "metadata": {},
   "outputs": [
    {
     "name": "stdout",
     "output_type": "stream",
     "text": [
      "firefox.txt\n",
      "grail.txt\n",
      "overheard.txt\n",
      "pirates.txt\n",
      "singles.txt\n",
      "wine.txt\n"
     ]
    }
   ],
   "source": [
    "#Generate the multiple text file names in the webtext corpus\n",
    "for fileid in webtext.fileids():\n",
    "    print(fileid)"
   ]
  },
  {
   "cell_type": "code",
   "execution_count": 14,
   "id": "c98f8699",
   "metadata": {},
   "outputs": [],
   "source": [
    "filenames2 = ['firefox.txt',\n",
    "'grail.txt',\n",
    "'overheard.txt',\n",
    "'pirates.txt',\n",
    "'singles.txt',\n",
    "'wine.txt'\n",
    "]"
   ]
  },
  {
   "cell_type": "code",
   "execution_count": 18,
   "id": "3730945a",
   "metadata": {},
   "outputs": [],
   "source": [
    "with open(\"data/webtext.txt\", \"w\", encoding=\"utf-8\") as f:\n",
    "    for filename in filenames2:\n",
    "        f.write(nltk.corpus.webtext.raw(filename))"
   ]
  }
 ],
 "metadata": {
  "kernelspec": {
   "display_name": "Python 3 (ipykernel)",
   "language": "python",
   "name": "python3"
  },
  "language_info": {
   "codemirror_mode": {
    "name": "ipython",
    "version": 3
   },
   "file_extension": ".py",
   "mimetype": "text/x-python",
   "name": "python",
   "nbconvert_exporter": "python",
   "pygments_lexer": "ipython3",
   "version": "3.9.0"
  }
 },
 "nbformat": 4,
 "nbformat_minor": 5
}
