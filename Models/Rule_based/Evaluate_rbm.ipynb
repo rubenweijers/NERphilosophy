{
 "cells": [
  {
   "cell_type": "code",
   "execution_count": null,
   "id": "a1517b93",
   "metadata": {},
   "outputs": [],
   "source": [
    "import spacy"
   ]
  },
  {
   "cell_type": "code",
   "execution_count": null,
   "id": "af8352a2",
   "metadata": {},
   "outputs": [],
   "source": [
    "nlp = spacy.load(\"trained/output/model-best\")"
   ]
  },
  {
   "cell_type": "code",
   "execution_count": null,
   "id": "d21e7165",
   "metadata": {},
   "outputs": [],
   "source": [
    "with open(\"data/rulebasedval.txt\", \"r\", encoding=\"utf-8\") as f:\n",
    "    text = f.read()"
   ]
  },
  {
   "cell_type": "code",
   "execution_count": null,
   "id": "d130fe00",
   "metadata": {},
   "outputs": [],
   "source": [
    "l = []\n",
    "doc = nlp(text)\n",
    "for ent in doc.ents:\n",
    "    l.append(ent)\n",
    "    #print (ent.text, ent.label_)\n",
    "print(l)"
   ]
  },
  {
   "cell_type": "code",
   "execution_count": null,
   "id": "debcda3c",
   "metadata": {},
   "outputs": [],
   "source": [
    "#names500single = ['Venn', 'Carnap', 'Russell', 'Frege', 'Carnap', 'Gibson', 'More', 'Socrates', 'Dennett', 'Quine', 'Quine', 'Hume', 'Carnap', 'Hume', 'Kant', 'Hume', 'Carnap', 'Carnap', 'Quine', 'Peirce', 'Quine', 'Carnap', 'Darwin', 'Strawson', 'Neumann', 'Russell', 'Whitehead', 'Hilbert', 'Kant', 'Whitehead', 'Carnap', 'Carnap', 'Bill', 'Cicero', 'Cicero', 'Quine', 'Carnap', 'Richard', 'Peirce', 'James', 'Smith', 'Berkeley', 'John', 'Dewey', 'Frege', 'Thompson', 'Russell', 'Russell', 'Nobel', 'Roger', 'Gibson', 'Hilary', 'Putnam', 'John', 'Dewey', 'Russell', 'Schiller', 'Protagoras', 'Theodor', 'Fechner', 'Theodor', 'Wolff', 'Luis', 'George', 'Gamow', 'Neumann', 'Quine', 'Skinner']\n",
    "names500singlecopy = ['Quine', 'Skinner']\n",
    "\n",
    "FN1 = ['Tarski', 'Tarski', 'Mercator', 'Gödel', 'Gödel', 'Goodman', 'Church', 'Jones', 'Ortcutt', 'Henricus Glareanus',\n",
    "     'Parsons', 'Tarski', 'God', 'Goodman', 'W.V. QUINE', 'Beckman', 'Peano', 'Ramsey', 'Scheffer', 'Shepard', 'Betsy',\n",
    "     'Poincare', 'Poincare', 'Ina', 'Pima', 'Bose', 'Einstein', 'Fermi', 'Dirac',  'Carter', 'Lasswitz', 'Luis Borges',\n",
    "     'Ley', 'Peano', 'Bernays', \"Peano\", 'Chattopadhyaya', 'Singh']\n",
    "\n",
    "TP1 = ['Venn', 'Carnap', 'Russel', 'Frege', 'Carnap', 'Gibson', 'Socrates', 'Dennett', 'Quine', 'Quine',\n",
    "     'Hume', 'Carnap', 'Hume', 'Kant', 'Hume', 'Carnap', 'Carnap', 'Quine', 'Peirce', 'Quine', 'Carnap', 'Darwin', 'Strawson'\n",
    "     , 'Neumann', 'Russel', 'Whitehead', 'Hilbert', 'Kant', 'Whitehead', 'Carnap', 'Carnap', 'Bill', 'Professor Quine', \n",
    "      'Cicero', 'Cicero', 'Carnap', 'Richard', 'Peirce', 'James', 'Smith', 'Dewey', 'Frege', 'Thompson', 'Russel',\n",
    "     'Russel', 'Nobel', 'Gibson', 'Putnam', 'Dewey', 'Russel', 'Schiller', 'Protagoras', 'Fechner', 'Wolff', 'Gamow',\n",
    "     'Neumann', 'Quine', 'Skinner']\n",
    "\n",
    "FP1 = ['More', 'Berkeley', ]\n",
    "\n",
    "precision = len(TP1)/ (len(TP1)+ len(FP1))\n",
    "recall = len(TP1)/ (len(TP1)+ len(FN1))\n",
    "fscore = (2 * (precision * recall))/ (precision + recall)\n",
    "print(\"Precision:\",precision)\n",
    "print(\"Recall:\", recall)\n",
    "print(\"F-score:\", fscore)"
   ]
  },
  {
   "cell_type": "code",
   "execution_count": null,
   "id": "344a7d15",
   "metadata": {},
   "outputs": [],
   "source": [
    "namesdouble = names500double = ['Venn', 'Syntax Carnap', 'Russell', 'Frege', 'Ina Carnap', 'Gibson', 'More', 'Socrates', 'Dennett', 'Quine', 'Quine', 'Hume', 'Carnap', 'Indeed Hume', 'Kant', 'Hume', 'Carnap', 'Carnap', 'Quine', 'Peirce', 'Quine', 'Carnap', 'Darwin', 'F Strawson', 'Neumann', 'Russell', 'Whitehead', 'Hilbert', 'Kant', 'Whitehead', 'Foundation Carnap', 'Carnap', 'Bill', 'Cicero', 'Cicero', 'Professor Quine', 'Carnap', 'Richard', 'Peirce', 'James', 'Kemp Smith', 'Berkeley', 'John', 'John Dewey', 'Frege', 'Thompson', 'Russell', 'Principiaby Russell', 'Nobel', 'Also Roger', 'Roger Gibson', 'Hilary', 'Hilary Putnam', 'John', 'John Dewey', 'Russell', 'Schiller', 'Protagoras', 'Theodor', 'Theodor Fechner', 'Lasswitz Theodor', 'Theodor Wolff', 'Jorge Luis', 'Borges George', 'George Gamow', 'Neumann', 'V Quine', 'Skinner']\n",
    "\n",
    "another = ['Venn', 'Syntax Carnap', 'Russell', 'Frege', 'Ina Carnap', 'Gibson', 'More', 'Socrates', 'Dennett', 'Quine', 'Quine', 'Hume', 'Carnap', 'Indeed Hume', 'Kant', 'Hume', 'Carnap', 'Carnap', 'Quine', 'Peirce', 'Quine', 'Carnap', 'Darwin', 'F Strawson', 'Neumann', 'Russell', 'Whitehead', 'Hilbert', 'Kant', 'Whitehead', 'Foundation Carnap', 'Carnap', 'Bill', 'Cicero', 'Cicero', 'Professor Quine', 'Carnap', 'Richard', 'Peirce', 'James', 'Kemp Smith', 'Berkeley', 'John', 'John Dewey', 'Frege', 'Thompson', 'Russell', 'Principiaby Russell', 'Nobel', 'Also Roger', 'Roger Gibson', 'Hilary', 'Hilary Putnam', 'John', 'John Dewey', 'Russell', 'Schiller', 'Protagoras', 'Theodor', 'Theodor Fechner', 'Lasswitz Theodor', 'Theodor Wolff', 'Jorge Luis', 'Borges George', 'George Gamow', 'Neumann', 'V Quine', 'Skinner']\n",
    "\n",
    "FN = [\"Tarski\", \"Tarski\", \"Mercator\", \"Godel\", \"Godel\", \"Goodman\", \"Church\", \"Jones\", \"Ortcutt\", \"Henricus Glareanus\", \"Parsons\", \"Tarski\", \"God\", \"Goodman\", \"W,V, QUINE\", \n",
    "     \"Beckmann\", \"Peano\", \"Ramsey\", \"Scheffer\", \"Shepard\", \"Betsy\", \"Ina\", \"Pima\", \"Bose\", \"Einstein\", \n",
    "     \"Fermi\", \"Dirac\", \"Carter\", \"Peano\", \"Bernays\", \"Peano\", \"Chattopadhyaya\", \"Singh\"]"
   ]
  },
  {
   "cell_type": "code",
   "execution_count": null,
   "id": "ebe7d375",
   "metadata": {},
   "outputs": [],
   "source": [
    "true_positives = [\"Venn\", \"Russel\", \"Frege\", \"Ina Carnap\", \"Gibson\", \"Socrates\", \"Denett\", \"Quine\", \"Quine,\", \"Hume\", \"Carnap\"\n",
    "                 \"Kant\", \"Hume\", \"Carnap\", \"Carnap\", 'Quine', 'Peirce', 'Quine', 'Carnap', 'Darwin', 'F Strawson', 'Russell', 'Whitehead',\n",
    "                   \"Hilbert\", 'Kant', 'Whitehead', 'Carnap', 'Bill', 'Cicero', 'Cicero', 'Professor Quine', 'Carnap', \n",
    "                  'Richard', 'Peirce', 'James', 'Kemp Smith', 'John Dewey', 'Frege', 'Thompson', 'Russell', 'Nobel',\n",
    "                  'Roger Gibson', 'Hilary Putnam', 'John Dewey', 'Russell', 'Schiller', 'Protagoras', 'Theodor Fechner',\n",
    "                  'Theodor Wolff', 'George Gamow', 'Skinner', 'Neumann',  'Neumann', 'V Quine', \"Poincare\", \"Poincare\"]\n",
    "                  \n",
    "false_positives = ['Syntax Carnap', 'More', 'Indeed Hume', 'Foundation Carnap', 'Berkeley', 'John', 'Principiaby Russell', 'Also Roger', 'Hilary', 'John', 'Theodor', 'Lasswitz Theodor', 'Jorge Luis', 'Borges George']\n",
    "\n",
    "precision = len(true_positives)/ (len(true_positives)+ len(false_positives))\n",
    "recall = len(true_positives)/ (len(true_positives)+ len(FN))\n",
    "fscore = (2 * (precision * recall))/ (precision + recall)\n",
    "print(\"Precision:\",precision)\n",
    "print(\"Recall:\", recall)\n",
    "print(\"F-score:\", fscore)"
   ]
  }
 ],
 "metadata": {
  "kernelspec": {
   "display_name": "Python 3 (ipykernel)",
   "language": "python",
   "name": "python3"
  },
  "language_info": {
   "codemirror_mode": {
    "name": "ipython",
    "version": 3
   },
   "file_extension": ".py",
   "mimetype": "text/x-python",
   "name": "python",
   "nbconvert_exporter": "python",
   "pygments_lexer": "ipython3",
   "version": "3.9.0"
  }
 },
 "nbformat": 4,
 "nbformat_minor": 5
}
