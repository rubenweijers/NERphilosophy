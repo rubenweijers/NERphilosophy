{
 "cells": [
  {
   "cell_type": "markdown",
   "id": "7189382b",
   "metadata": {},
   "source": [
    "# Trained spaCy full, 1-4767"
   ]
  },
  {
   "cell_type": "code",
   "execution_count": 16,
   "id": "3d3b3ada",
   "metadata": {},
   "outputs": [
    {
     "name": "stdout",
     "output_type": "stream",
     "text": [
      "[i] Saving to output directory: trained\\full\n",
      "[i] Using CPU\n"
     ]
    },
    {
     "name": "stderr",
     "output_type": "stream",
     "text": [
      "[2022-01-04 15:33:14,996] [INFO] Set up nlp object from config\n",
      "[2022-01-04 15:33:15,009] [INFO] Pipeline: ['tok2vec', 'ner']\n",
      "[2022-01-04 15:33:15,014] [INFO] Created vocabulary\n",
      "[2022-01-04 15:33:15,015] [INFO] Finished initializing nlp object\n",
      "[2022-01-04 15:33:20,605] [INFO] Initialized pipeline components: ['tok2vec', 'ner']\n"
     ]
    },
    {
     "name": "stdout",
     "output_type": "stream",
     "text": [
      "\u001b[1m\n",
      "=========================== Initializing pipeline ===========================\u001b[0m\n",
      "[+] Initialized pipeline\n",
      "\u001b[1m\n",
      "============================= Training pipeline =============================\u001b[0m\n",
      "[i] Pipeline: ['tok2vec', 'ner']\n",
      "[i] Initial learn rate: 0.001\n",
      "E    #       LOSS TOK2VEC  LOSS NER  ENTS_F  ENTS_P  ENTS_R  SCORE \n",
      "---  ------  ------------  --------  ------  ------  ------  ------\n",
      "  0       0          0.00     30.33    0.64    0.42    1.30    0.01\n",
      "  0     200         23.23    757.81   56.59   41.45   89.18    0.57\n",
      "  0     400         51.08    272.73   52.31   90.43   36.80    0.52\n",
      "  0     600         68.92    263.57   81.73   91.89   73.59    0.82\n",
      "  0     800        112.15    315.89   86.80   89.81   83.98    0.87\n",
      "  1    1000        106.60    234.63   86.60   82.68   90.91    0.87\n",
      "  1    1200        157.69    267.84   86.78   88.34   85.28    0.87\n",
      "  2    1400        172.33    211.13   85.91   88.89   83.12    0.86\n",
      "  3    1600        238.83    250.72   86.08   85.17   87.01    0.86\n",
      "  4    1800        296.30    228.73   85.19   89.90   80.95    0.85\n",
      "  5    2000        333.76    200.92   84.28   85.02   83.55    0.84\n",
      "  6    2200        226.68    137.33   82.13   88.50   76.62    0.82\n",
      "  8    2400        317.06    141.97   84.12   87.04   81.39    0.84\n",
      "[+] Saved pipeline to output directory\n",
      "trained\\full\\model-last\n"
     ]
    }
   ],
   "source": [
    "#train without custom vectors\n",
    "!python -m spacy train trained/full/config.cfg --output trained/full"
   ]
  },
  {
   "cell_type": "code",
   "execution_count": 22,
   "id": "edc3d678",
   "metadata": {},
   "outputs": [
    {
     "name": "stdout",
     "output_type": "stream",
     "text": [
      "[i] Using CPU\n",
      "\u001b[1m\n",
      "================================== Results ==================================\u001b[0m\n",
      "\n",
      "TOK     100.00\n",
      "NER P   89.63 \n",
      "NER R   73.13 \n",
      "NER F   80.55 \n",
      "SPEED   21002 \n",
      "\n",
      "\u001b[1m\n",
      "=============================== NER (per type) ===============================\u001b[0m\n",
      "\n",
      "             P       R       F\n",
      "PERSON   89.63   73.13   80.55\n",
      "\n"
     ]
    }
   ],
   "source": [
    "!python -m spacy evaluate trained/full/model-best data/val2.spacy\n",
    "#model-best: ents_f\":0.8680089485,\n",
    "#    \"ents_p\":0.8981481481,\n",
    "#    \"ents_r\":0.8398268398,"
   ]
  },
  {
   "cell_type": "markdown",
   "id": "11cfee59",
   "metadata": {},
   "source": [
    "# Trained spacy partial 1, 1-1589"
   ]
  },
  {
   "cell_type": "code",
   "execution_count": 10,
   "id": "6475c6c1",
   "metadata": {},
   "outputs": [
    {
     "name": "stdout",
     "output_type": "stream",
     "text": [
      "[+] Auto-filled config with all values\n",
      "[+] Saved config\n",
      "config.cfg\n",
      "You can now add your data and train your pipeline:\n",
      "python -m spacy train config.cfg --paths.train ./train.spacy --paths.dev ./dev.spacy\n"
     ]
    }
   ],
   "source": [
    "import spacy\n",
    "#to make config file:\n",
    "#base_config.cfg from spacy widget\n",
    "#!python -m spacy init fill-config trained/partial1/base_config.cfg config.cfg"
   ]
  },
  {
   "cell_type": "code",
   "execution_count": 2,
   "id": "e30161cc",
   "metadata": {},
   "outputs": [],
   "source": [
    "#train with custom vectors:!!!!!!!!!!!!!!!!\n",
    "#!python -m spacy train trained/config.cfg --output trained/output --paths.train downloads/read_train.spacy --paths.dev downloads/read_test.spacy --paths.vectors trained_ner_model_1"
   ]
  },
  {
   "cell_type": "code",
   "execution_count": 11,
   "id": "f864d2fd",
   "metadata": {},
   "outputs": [
    {
     "name": "stdout",
     "output_type": "stream",
     "text": [
      "[i] Saving to output directory: trained\\partial1\n",
      "[i] Using CPU\n",
      "\u001b[1m\n",
      "=========================== Initializing pipeline ===========================\u001b[0m\n",
      "[+] Initialized pipeline\n",
      "\u001b[1m\n",
      "============================= Training pipeline =============================\u001b[0m\n",
      "[i] Pipeline: ['tok2vec', 'ner']\n",
      "[i] Initial learn rate: 0.001\n",
      "E    #       LOSS TOK2VEC  LOSS NER  ENTS_F  ENTS_P  ENTS_R  SCORE \n",
      "---  ------  ------------  --------  ------  ------  ------  ------\n",
      "  0       0          0.00     35.67    0.00    0.00    0.00    0.00\n",
      "  0     200         25.60    735.32   75.12   88.30   65.37    0.75\n",
      "  1     400         44.79    232.19   65.95   86.62   53.25    0.66\n",
      "  1     600        104.65    203.81   74.17   75.68   72.73    0.74\n",
      "  2     800        147.55    227.54   65.34   95.04   49.78    0.65\n",
      "  4    1000       3082.92    155.19   76.92   80.57   73.59    0.77\n",
      "  5    1200         91.90    100.21   75.35   81.41   70.13    0.75\n",
      "  7    1400        141.05    123.24   69.40   78.26   62.34    0.69\n",
      "  9    1600         92.43     77.66   71.46   83.72   62.34    0.71\n",
      " 12    1800         59.55     60.01   71.77   80.21   64.94    0.72\n",
      " 15    2000         87.61     72.24   70.00   73.68   66.67    0.70\n",
      " 20    2200         62.33     65.95   73.94   76.15   71.86    0.74\n",
      " 25    2400         41.37     78.55   73.06   77.29   69.26    0.73\n",
      " 30    2600         48.95     72.80   71.03   77.16   65.80    0.71\n",
      "[+] Saved pipeline to output directory\n",
      "trained\\partial1\\model-last\n"
     ]
    },
    {
     "name": "stderr",
     "output_type": "stream",
     "text": [
      "[2022-01-04 15:06:22,386] [INFO] Set up nlp object from config\n",
      "[2022-01-04 15:06:22,397] [INFO] Pipeline: ['tok2vec', 'ner']\n",
      "[2022-01-04 15:06:22,402] [INFO] Created vocabulary\n",
      "[2022-01-04 15:06:22,405] [INFO] Finished initializing nlp object\n",
      "[2022-01-04 15:06:24,555] [INFO] Initialized pipeline components: ['tok2vec', 'ner']\n"
     ]
    }
   ],
   "source": [
    "#train without custom vectors\n",
    "!python -m spacy train trained/partial1/config.cfg --output trained/partial1"
   ]
  },
  {
   "cell_type": "code",
   "execution_count": 12,
   "id": "52ed5566",
   "metadata": {},
   "outputs": [
    {
     "name": "stdout",
     "output_type": "stream",
     "text": [
      "[i] Using CPU\n",
      "\u001b[1m\n",
      "================================== Results ==================================\u001b[0m\n",
      "\n",
      "TOK     100.00\n",
      "NER P   82.08 \n",
      "NER R   70.65 \n",
      "NER F   75.94 \n",
      "SPEED   21884 \n",
      "\n",
      "\u001b[1m\n",
      "=============================== NER (per type) ===============================\u001b[0m\n",
      "\n",
      "             P       R       F\n",
      "PERSON   82.08   70.65   75.94\n",
      "\n"
     ]
    }
   ],
   "source": [
    "!python -m spacy evaluate trained/partial1/model-best data/val2.spacy"
   ]
  },
  {
   "cell_type": "markdown",
   "id": "1cd6daef",
   "metadata": {},
   "source": [
    "# TRAINED SPACY PARTIAL 2, 1-3179"
   ]
  },
  {
   "cell_type": "code",
   "execution_count": 14,
   "id": "8a2a1ac5",
   "metadata": {},
   "outputs": [
    {
     "name": "stdout",
     "output_type": "stream",
     "text": [
      "[i] Saving to output directory: trained\\partial2\n",
      "[i] Using CPU\n",
      "\u001b[1m\n",
      "=========================== Initializing pipeline ===========================\u001b[0m\n",
      "[+] Initialized pipeline\n",
      "\u001b[1m\n",
      "============================= Training pipeline =============================\u001b[0m\n",
      "[i] Pipeline: ['tok2vec', 'ner']\n",
      "[i] Initial learn rate: 0.001\n",
      "E    #       LOSS TOK2VEC  LOSS NER  ENTS_F  ENTS_P  ENTS_R  SCORE \n",
      "---  ------  ------------  --------  ------  ------  ------  ------\n",
      "  0       0          0.00     25.00    0.72    0.36   27.27    0.01\n",
      "  0     200         28.53    728.34   57.74   43.99   83.98    0.58\n",
      "  0     400         49.69    261.64   66.67   82.69   55.84    0.67\n",
      "  0     600         58.87    259.18   80.00   85.29   75.32    0.80\n",
      "  0     800        110.21    269.81   77.91   86.32   71.00    0.78\n",
      "  1    1000        174.77    188.17   77.34   89.71   67.97    0.77\n",
      "  1    1200        209.75    248.15   76.69   91.07   66.23    0.77\n",
      "  2    1400        188.14    214.89   77.52   82.44   73.16    0.78\n",
      "  3    1600        142.73    134.33   79.32   90.56   70.56    0.79\n",
      "  4    1800        263.35    132.11   75.00   86.44   66.23    0.75\n",
      "  5    2000        137.34     88.09   70.68   89.40   58.44    0.71\n",
      "  6    2200       3112.41    114.45   74.38   86.29   65.37    0.74\n",
      "[+] Saved pipeline to output directory\n",
      "trained\\partial2\\model-last\n"
     ]
    },
    {
     "name": "stderr",
     "output_type": "stream",
     "text": [
      "[2022-01-04 15:22:39,055] [INFO] Set up nlp object from config\n",
      "[2022-01-04 15:22:39,066] [INFO] Pipeline: ['tok2vec', 'ner']\n",
      "[2022-01-04 15:22:39,072] [INFO] Created vocabulary\n",
      "[2022-01-04 15:22:39,073] [INFO] Finished initializing nlp object\n",
      "[2022-01-04 15:22:44,489] [INFO] Initialized pipeline components: ['tok2vec', 'ner']\n"
     ]
    }
   ],
   "source": [
    "#train without custom vectors\n",
    "!python -m spacy train trained/partial2/config.cfg --output trained/partial2"
   ]
  },
  {
   "cell_type": "code",
   "execution_count": 15,
   "id": "315344f2",
   "metadata": {},
   "outputs": [
    {
     "name": "stdout",
     "output_type": "stream",
     "text": [
      "[i] Using CPU\n",
      "\u001b[1m\n",
      "================================== Results ==================================\u001b[0m\n",
      "\n",
      "TOK     100.00\n",
      "NER P   91.52 \n",
      "NER R   75.12 \n",
      "NER F   82.51 \n",
      "SPEED   22104 \n",
      "\n",
      "\u001b[1m\n",
      "=============================== NER (per type) ===============================\u001b[0m\n",
      "\n",
      "             P       R       F\n",
      "PERSON   91.52   75.12   82.51\n",
      "\n"
     ]
    }
   ],
   "source": [
    "!python -m spacy evaluate trained/partial2/model-best data/val2.spacy"
   ]
  }
 ],
 "metadata": {
  "kernelspec": {
   "display_name": "Python 3 (ipykernel)",
   "language": "python",
   "name": "python3"
  },
  "language_info": {
   "codemirror_mode": {
    "name": "ipython",
    "version": 3
   },
   "file_extension": ".py",
   "mimetype": "text/x-python",
   "name": "python",
   "nbconvert_exporter": "python",
   "pygments_lexer": "ipython3",
   "version": "3.9.0"
  }
 },
 "nbformat": 4,
 "nbformat_minor": 5
}
