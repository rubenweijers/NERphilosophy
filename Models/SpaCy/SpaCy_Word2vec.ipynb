{
 "cells": [
  {
   "cell_type": "code",
   "execution_count": 1,
   "id": "2c98b084",
   "metadata": {},
   "outputs": [],
   "source": [
    "import spacy"
   ]
  },
  {
   "cell_type": "code",
   "execution_count": 3,
   "id": "7b830b37",
   "metadata": {},
   "outputs": [
    {
     "name": "stdout",
     "output_type": "stream",
     "text": [
      "[i] Saving to output directory: trained\\vecs\n",
      "[i] Using CPU\n",
      "\u001b[1m\n",
      "=========================== Initializing pipeline ===========================\u001b[0m\n",
      "[+] Initialized pipeline\n",
      "\u001b[1m\n",
      "============================= Training pipeline =============================\u001b[0m\n",
      "[i] Pipeline: ['tok2vec', 'ner']\n",
      "[i] Initial learn rate: 0.001\n",
      "E    #       LOSS TOK2VEC  LOSS NER  ENTS_F  ENTS_P  ENTS_R  SCORE \n",
      "---  ------  ------------  --------  ------  ------  ------  ------\n",
      "  0       0          0.00     30.33    0.51    0.32    1.30    0.01\n",
      "  0     200         35.61    787.32   66.55   55.30   83.55    0.67\n",
      "  0     400         66.05    226.42   55.11   96.74   38.53    0.55\n",
      "  0     600         59.50    238.65   79.57   79.06   80.09    0.80\n",
      "  0     800         89.80    284.47   86.21   85.84   86.58    0.86\n",
      "  1    1000        144.53    251.59   88.14   86.31   90.04    0.88\n",
      "  1    1200        155.33    271.11   87.61   89.59   85.71    0.88\n",
      "  2    1400        162.77    242.28   87.36   93.14   82.25    0.87\n",
      "  3    1600        277.49    265.57   87.50   87.12   87.88    0.88\n",
      "  4    1800        551.15    283.92   87.10   85.12   89.18    0.87\n",
      "  5    2000        354.87    265.23   82.35   82.89   81.82    0.82\n",
      "  6    2200        341.30    218.92   84.80   83.90   85.71    0.85\n",
      "  8    2400        551.65    207.61   82.93   85.00   80.95    0.83\n",
      " 10    2600        280.65    147.04   86.21   87.17   85.28    0.86\n",
      "[+] Saved pipeline to output directory\n",
      "trained\\vecs\\model-last\n"
     ]
    },
    {
     "name": "stderr",
     "output_type": "stream",
     "text": [
      "[2022-01-04 15:46:15,314] [INFO] Set up nlp object from config\n",
      "[2022-01-04 15:46:15,326] [INFO] Pipeline: ['tok2vec', 'ner']\n",
      "[2022-01-04 15:46:15,331] [INFO] Created vocabulary\n",
      "[2022-01-04 15:46:15,937] [INFO] Added vectors: models/w2v/quine\n",
      "[2022-01-04 15:46:16,033] [INFO] Finished initializing nlp object\n",
      "[2022-01-04 15:46:21,828] [INFO] Initialized pipeline components: ['tok2vec', 'ner']\n"
     ]
    }
   ],
   "source": [
    "#train with Quine domain vectors\n",
    "!python -m spacy train trained/vecs/config.cfg --output trained/vecs"
   ]
  },
  {
   "cell_type": "code",
   "execution_count": 4,
   "id": "0b355604",
   "metadata": {},
   "outputs": [
    {
     "name": "stdout",
     "output_type": "stream",
     "text": [
      "[i] Using CPU\n",
      "\u001b[1m\n",
      "================================== Results ==================================\u001b[0m\n",
      "\n",
      "TOK     100.00\n",
      "NER P   89.47 \n",
      "NER R   84.58 \n",
      "NER F   86.96 \n",
      "SPEED   18791 \n",
      "\n",
      "\u001b[1m\n",
      "=============================== NER (per type) ===============================\u001b[0m\n",
      "\n",
      "             P       R       F\n",
      "PERSON   89.47   84.58   86.96\n",
      "\n"
     ]
    }
   ],
   "source": [
    "!python -m spacy evaluate trained/vecs/model-best data/val2.spacy\n"
   ]
  },
  {
   "cell_type": "code",
   "execution_count": 5,
   "id": "b7018e95",
   "metadata": {},
   "outputs": [
    {
     "name": "stdout",
     "output_type": "stream",
     "text": [
      "[i] Saving to output directory: trained\\vecs_merged\n",
      "[i] Using CPU\n",
      "\u001b[1m\n",
      "=========================== Initializing pipeline ===========================\u001b[0m\n",
      "[+] Initialized pipeline\n",
      "\u001b[1m\n",
      "============================= Training pipeline =============================\u001b[0m\n",
      "[i] Pipeline: ['tok2vec', 'ner']\n",
      "[i] Initial learn rate: 0.001\n",
      "E    #       LOSS TOK2VEC  LOSS NER  ENTS_F  ENTS_P  ENTS_R  SCORE \n",
      "---  ------  ------------  --------  ------  ------  ------  ------\n",
      "  0       0          0.00     30.33    1.74    0.90   24.68    0.02\n",
      "  0     200         23.80    774.03   70.70   61.27   83.55    0.71\n",
      "  0     400         35.88    263.22   23.88   86.49   13.85    0.24\n",
      "  0     600         48.44    262.14   83.99   90.50   78.35    0.84\n",
      "  0     800         64.40    287.78   86.37   83.74   89.18    0.86\n",
      "  1    1000         96.63    223.15   84.01   75.69   94.37    0.84\n",
      "  1    1200        129.62    254.68   86.62   85.00   88.31    0.87\n",
      "  2    1400        168.66    204.33   83.88   80.24   87.88    0.84\n",
      "  3    1600        323.08    281.78   88.57   85.20   92.21    0.89\n",
      "  4    1800        256.95    262.03   87.23   85.77   88.74    0.87\n",
      "  5    2000        282.60    213.20   85.32   90.73   80.52    0.85\n",
      "  6    2200        532.99    192.15   83.73   83.91   83.55    0.84\n",
      "  8    2400        404.83    189.93   83.41   84.14   82.68    0.83\n",
      " 10    2600        306.13    122.10   84.65   81.27   88.31    0.85\n",
      " 11    2800        270.26     96.76   86.01   83.06   89.18    0.86\n",
      " 13    3000        280.29     86.91   80.72   83.72   77.92    0.81\n",
      " 15    3200        208.96     84.20   82.38   80.83   83.98    0.82\n",
      "[+] Saved pipeline to output directory\n",
      "trained\\vecs_merged\\model-last\n"
     ]
    },
    {
     "name": "stderr",
     "output_type": "stream",
     "text": [
      "[2022-01-04 15:55:39,265] [INFO] Set up nlp object from config\n",
      "[2022-01-04 15:55:39,276] [INFO] Pipeline: ['tok2vec', 'ner']\n",
      "[2022-01-04 15:55:39,281] [INFO] Created vocabulary\n",
      "[2022-01-04 15:55:39,903] [INFO] Added vectors: models/w2v/merged\n",
      "[2022-01-04 15:55:40,008] [INFO] Finished initializing nlp object\n",
      "[2022-01-04 15:55:45,763] [INFO] Initialized pipeline components: ['tok2vec', 'ner']\n"
     ]
    }
   ],
   "source": [
    "#train with Merged dataset vectors\n",
    "!python -m spacy train trained/vecs_merged/config.cfg --output trained/vecs_merged"
   ]
  },
  {
   "cell_type": "code",
   "execution_count": 6,
   "id": "1b0d0827",
   "metadata": {},
   "outputs": [
    {
     "name": "stdout",
     "output_type": "stream",
     "text": [
      "[i] Using CPU\n",
      "\u001b[1m\n",
      "================================== Results ==================================\u001b[0m\n",
      "\n",
      "TOK     100.00\n",
      "NER P   93.12 \n",
      "NER R   87.56 \n",
      "NER F   90.26 \n",
      "SPEED   18786 \n",
      "\n",
      "\u001b[1m\n",
      "=============================== NER (per type) ===============================\u001b[0m\n",
      "\n",
      "             P       R       F\n",
      "PERSON   93.12   87.56   90.26\n",
      "\n"
     ]
    }
   ],
   "source": [
    "!python -m spacy evaluate trained/vecs_merged/model-best data/val2.spacy"
   ]
  },
  {
   "cell_type": "code",
   "execution_count": null,
   "id": "4ebc10da",
   "metadata": {},
   "outputs": [],
   "source": []
  }
 ],
 "metadata": {
  "kernelspec": {
   "display_name": "Python 3 (ipykernel)",
   "language": "python",
   "name": "python3"
  },
  "language_info": {
   "codemirror_mode": {
    "name": "ipython",
    "version": 3
   },
   "file_extension": ".py",
   "mimetype": "text/x-python",
   "name": "python",
   "nbconvert_exporter": "python",
   "pygments_lexer": "ipython3",
   "version": "3.9.0"
  }
 },
 "nbformat": 4,
 "nbformat_minor": 5
}
