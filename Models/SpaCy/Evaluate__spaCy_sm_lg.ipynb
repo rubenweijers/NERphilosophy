{
 "cells": [
  {
   "cell_type": "code",
   "execution_count": 1,
   "id": "b79e9df5",
   "metadata": {},
   "outputs": [],
   "source": [
    "import spacy"
   ]
  },
  {
   "cell_type": "code",
   "execution_count": 2,
   "id": "f71dd89f",
   "metadata": {},
   "outputs": [],
   "source": [
    "nlp_small = spacy.load(\"en_core_web_sm\")\n",
    "nlp_large = spacy.load(\"en_core_web_lg\")"
   ]
  },
  {
   "cell_type": "code",
   "execution_count": 6,
   "id": "2efa3a56",
   "metadata": {},
   "outputs": [
    {
     "name": "stdout",
     "output_type": "stream",
     "text": [
      "[i] Using CPU\n",
      "\u001b[1m\n",
      "================================== Results ==================================\u001b[0m\n",
      "\n",
      "TOK      100.00\n",
      "TAG      -     \n",
      "POS      -     \n",
      "MORPH    -     \n",
      "LEMMA    -     \n",
      "UAS      -     \n",
      "LAS      -     \n",
      "NER P    12.70 \n",
      "NER R    31.34 \n",
      "NER F    18.08 \n",
      "SENT P   100.00\n",
      "SENT R   100.00\n",
      "SENT F   100.00\n",
      "SPEED    6005  \n",
      "\n",
      "\u001b[1m\n",
      "=============================== NER (per type) ===============================\u001b[0m\n",
      "\n",
      "               P       R       F\n",
      "CARDINAL    0.00    0.00    0.00\n",
      "LANGUAGE    0.00    0.00    0.00\n",
      "NORP        0.00    0.00    0.00\n",
      "ORG         0.00    0.00    0.00\n",
      "PERSON     91.30   31.34   46.67\n",
      "ORDINAL     0.00    0.00    0.00\n",
      "TIME        0.00    0.00    0.00\n",
      "LOC         0.00    0.00    0.00\n",
      "DATE        0.00    0.00    0.00\n",
      "PRODUCT     0.00    0.00    0.00\n",
      "GPE         0.00    0.00    0.00\n",
      "FAC         0.00    0.00    0.00\n",
      "QUANTITY    0.00    0.00    0.00\n",
      "\n"
     ]
    }
   ],
   "source": [
    "!python -m spacy evaluate en_core_web_sm data/val2.spacy"
   ]
  },
  {
   "cell_type": "code",
   "execution_count": 8,
   "id": "81bf4004",
   "metadata": {},
   "outputs": [
    {
     "name": "stdout",
     "output_type": "stream",
     "text": [
      "[i] Using CPU\n",
      "\u001b[1m\n",
      "================================== Results ==================================\u001b[0m\n",
      "\n",
      "TOK      100.00\n",
      "TAG      -     \n",
      "POS      -     \n",
      "MORPH    -     \n",
      "LEMMA    -     \n",
      "UAS      -     \n",
      "LAS      -     \n",
      "NER P    22.74 \n",
      "NER R    56.22 \n",
      "NER F    32.38 \n",
      "SENT P   100.00\n",
      "SENT R   100.00\n",
      "SENT F   100.00\n",
      "SPEED    5365  \n",
      "\n",
      "\u001b[1m\n",
      "=============================== NER (per type) ===============================\u001b[0m\n",
      "\n",
      "                  P       R       F\n",
      "CARDINAL       0.00    0.00    0.00\n",
      "LANGUAGE       0.00    0.00    0.00\n",
      "ORG            0.00    0.00    0.00\n",
      "PERSON        89.68   56.22   69.11\n",
      "NORP           0.00    0.00    0.00\n",
      "WORK_OF_ART    0.00    0.00    0.00\n",
      "ORDINAL        0.00    0.00    0.00\n",
      "GPE            0.00    0.00    0.00\n",
      "TIME           0.00    0.00    0.00\n",
      "LOC            0.00    0.00    0.00\n",
      "DATE           0.00    0.00    0.00\n",
      "PRODUCT        0.00    0.00    0.00\n",
      "FAC            0.00    0.00    0.00\n",
      "QUANTITY       0.00    0.00    0.00\n",
      "MONEY          0.00    0.00    0.00\n",
      "\n"
     ]
    }
   ],
   "source": [
    "!python -m spacy evaluate en_core_web_lg data/val2.spacy"
   ]
  }
 ],
 "metadata": {
  "kernelspec": {
   "display_name": "Python 3 (ipykernel)",
   "language": "python",
   "name": "python3"
  },
  "language_info": {
   "codemirror_mode": {
    "name": "ipython",
    "version": 3
   },
   "file_extension": ".py",
   "mimetype": "text/x-python",
   "name": "python",
   "nbconvert_exporter": "python",
   "pygments_lexer": "ipython3",
   "version": "3.9.0"
  }
 },
 "nbformat": 4,
 "nbformat_minor": 5
}
