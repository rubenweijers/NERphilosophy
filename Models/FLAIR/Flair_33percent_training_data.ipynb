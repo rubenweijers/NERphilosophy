{
 "cells": [
  {
   "cell_type": "code",
   "execution_count": null,
   "id": "d6a3a92f",
   "metadata": {},
   "outputs": [],
   "source": [
    "import flair"
   ]
  },
  {
   "cell_type": "code",
   "execution_count": null,
   "id": "c73faf00",
   "metadata": {},
   "outputs": [],
   "source": [
    "import pandas as pd\n",
    "from tqdm import tqdm\n",
    "from difflib import SequenceMatcher\n",
    "import re\n",
    "import pickle"
   ]
  },
  {
   "cell_type": "code",
   "execution_count": null,
   "id": "e6c541d0",
   "metadata": {},
   "outputs": [],
   "source": [
    "import flair\n",
    "from flair.data import Corpus\n",
    "from flair.datasets import ColumnCorpus\n",
    "columns = {0: 'text', 1: 'ner'}\n",
    "corpus: Corpus = ColumnCorpus('data/', columns,\n",
    "                              train_file='flairfirspart.txt',\n",
    "                              test_file='flairtest2.txt',\n",
    "                              dev_file='flairval2.txt')"
   ]
  },
  {
   "cell_type": "code",
   "execution_count": null,
   "id": "3ee98d68",
   "metadata": {},
   "outputs": [],
   "source": [
    "# tag to predict\n",
    "tag_type = 'ner'# make tag dictionary from the corpus\n",
    "tag_dictionary = corpus.make_label_dictionary(tag_type)"
   ]
  },
  {
   "cell_type": "code",
   "execution_count": null,
   "id": "1acdd3e7",
   "metadata": {},
   "outputs": [],
   "source": [
    "from flair.embeddings import WordEmbeddings, StackedEmbeddings, TokenEmbeddings\n",
    "from typing import List\n",
    "embedding_types : List[TokenEmbeddings] = [\n",
    "        WordEmbeddings('glove'),\n",
    "        ## other embeddings\n",
    "        ]\n",
    "embeddings : StackedEmbeddings = StackedEmbeddings(\n",
    "                                 embeddings=embedding_types)"
   ]
  },
  {
   "cell_type": "code",
   "execution_count": null,
   "id": "1cabfa56",
   "metadata": {},
   "outputs": [],
   "source": [
    "from flair.models import SequenceTagger\n",
    "tagger : SequenceTagger = SequenceTagger(hidden_size=256,\n",
    "                                       embeddings=embeddings,\n",
    "                                       tag_dictionary=tag_dictionary,\n",
    "                                       tag_type=tag_type,\n",
    "                                       use_crf=True)\n",
    "print(tagger)"
   ]
  },
  {
   "cell_type": "code",
   "execution_count": null,
   "id": "17b8912c",
   "metadata": {},
   "outputs": [],
   "source": [
    "from flair.trainers import ModelTrainer\n",
    "trainer : ModelTrainer = ModelTrainer(tagger, corpus)\n",
    "    \n",
    "trainer.train('data/flairfirstpartmodel',\n",
    "              learning_rate=0.1,\n",
    "              mini_batch_size=32,\n",
    "              max_epochs=150)"
   ]
  }
 ],
 "metadata": {
  "kernelspec": {
   "display_name": "Python 3 (ipykernel)",
   "language": "python",
   "name": "python3"
  },
  "language_info": {
   "codemirror_mode": {
    "name": "ipython",
    "version": 3
   },
   "file_extension": ".py",
   "mimetype": "text/x-python",
   "name": "python",
   "nbconvert_exporter": "python",
   "pygments_lexer": "ipython3",
   "version": "3.9.0"
  }
 },
 "nbformat": 4,
 "nbformat_minor": 5
}
