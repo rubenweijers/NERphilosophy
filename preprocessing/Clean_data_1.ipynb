{
 "cells": [
  {
   "cell_type": "markdown",
   "id": "cbe9e106",
   "metadata": {},
   "source": [
    "First cleaning, replaced abbreviations. Removed short sentences and sentences containing the keywords: XfZ and XsZ"
   ]
  },
  {
   "cell_type": "code",
   "execution_count": null,
   "id": "a9da163b",
   "metadata": {},
   "outputs": [],
   "source": [
    "from nltk import sent_tokenize, word_tokenize\n",
    "import nltk\n",
    "nltk.download('punkt')"
   ]
  },
  {
   "cell_type": "code",
   "execution_count": null,
   "id": "00e2337c",
   "metadata": {
    "scrolled": false
   },
   "outputs": [],
   "source": [
    "#First cleaning, replace abbreviations and remove XfZ and XsZ\n",
    "\n",
    "with open(\"downloads/quinev05_input_word.txt\",'r', encoding=\"utf-8\") as file:\n",
    "    lines = file.read()\n",
    "    x1 = lines.replace(\" ,\",\",\")\n",
    "    x2 = x1.replace(\" .\",\".\")\n",
    "    #pat = ('(?<!Dr)(?<!Esq)(?<!e.g)\\. +(?=[A-Z])')\n",
    "    #x3 = re.sub(pat,'.\\n',x2)\n",
    "    #x4 = re.sub(r'\\.(?! )', '. ', re.sub(r' +', ' ', x))\n",
    "    x5 = x2.replace(\"i. e.\", \"i.e.\")\n",
    "    x6 = x5.replace(\"e. g.\", \"e.g.\")\n",
    "    x7 = x6.replace(\"e.g.\", \"e.g\")\n",
    "    x8 = x7.replace(\"i.e.\", \"i.e\")\n",
    "    x9 = x8.replace(\"W.\", \"W. \")\n",
    "    x10 = x9.replace(\"W.  \", \"W. \")\n",
    "\n",
    "    for line in sent_tokenize(x10):\n",
    "        if len(line) <= 6:\n",
    "            pass\n",
    "        # find() returns -1 if no match is found\n",
    "        #line.replace(\" e.g.\", \"e.g.\")\n",
    "        elif line.find(\"XfZ\") != -1:\n",
    "            pass\n",
    "        elif line.find(\"XsZ\") != -1:\n",
    "            pass\n",
    "        else:\n",
    "            print(line)"
   ]
  }
 ],
 "metadata": {
  "kernelspec": {
   "display_name": "Python 3 (ipykernel)",
   "language": "python",
   "name": "python3"
  },
  "language_info": {
   "codemirror_mode": {
    "name": "ipython",
    "version": 3
   },
   "file_extension": ".py",
   "mimetype": "text/x-python",
   "name": "python",
   "nbconvert_exporter": "python",
   "pygments_lexer": "ipython3",
   "version": "3.9.0"
  }
 },
 "nbformat": 4,
 "nbformat_minor": 5
}
