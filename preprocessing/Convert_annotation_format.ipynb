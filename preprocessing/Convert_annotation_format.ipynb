{
 "cells": [
  {
   "cell_type": "code",
   "execution_count": null,
   "id": "5e7ac4c4",
   "metadata": {},
   "outputs": [],
   "source": [
    "from spacy.tokens import DocBin\n",
    "import spacy\n",
    "import json\n",
    "from tqdm import tqdm\n",
    "import random"
   ]
  },
  {
   "cell_type": "code",
   "execution_count": null,
   "id": "c9980b6a",
   "metadata": {},
   "outputs": [],
   "source": [
    "#Function to create spacy3.0 format training data\n",
    "nlp = spacy.blank(\"en\")\n",
    "def create_training(TRAIN_DATA):\n",
    "    db = DocBin()\n",
    "    for text, annot in tqdm(TRAIN_DATA):\n",
    "        doc = nlp.make_doc(text)\n",
    "        ents = []\n",
    "        for start, end, label in annot[\"entities\"]:\n",
    "            span = doc.char_span(start, end, label=label, alignment_mode=\"contract\")\n",
    "            if span is None:\n",
    "                print (\".\")\n",
    "            else:\n",
    "                ents.append(span)\n",
    "        doc.ents = ents\n",
    "        db.add(doc)\n",
    "    return (db)"
   ]
  },
  {
   "cell_type": "code",
   "execution_count": null,
   "id": "68c61277",
   "metadata": {},
   "outputs": [],
   "source": [
    "#Sample training, testing and validation set, based on the web annotation tool: http://agateteam.org/spacynerannotate/\n",
    "TRAIN_DATA = [(\"Socrates walked to the store.\",{\"entities\":[0,8, \"PERSON\"]}),\n",
    "(\"Quine writes philosophy.\",{\"entities\":[(0,5,\"PERSON\")]})]\n",
    "\n",
    "TEST_DATA = [(\"Plato loves cookies.\",{\"entities\":[0,5, \"PERSON\"]}),\n",
    "(\"God is watching over him.\",{\"entities\":[(0,3,\"PERSON\")]})]\n",
    "\n",
    "VALIDATION_DATA = [(\"Ruben is writing sample sentences.\",{\"entities\":[0,5, \"PERSON\"]})]"
   ]
  },
  {
   "cell_type": "code",
   "execution_count": null,
   "id": "e022d43c",
   "metadata": {},
   "outputs": [],
   "source": [
    "#SpaCy 3.0 formatting of training data\n",
    "read_train = create_training(TRAIN_DATA)\n",
    "read_train.to_disk(\"pathtofile/trainingdata.spacy\")"
   ]
  },
  {
   "cell_type": "code",
   "execution_count": null,
   "id": "b5297a9d",
   "metadata": {},
   "outputs": [],
   "source": [
    "#SpaCy 3.0 formatting of testing data\n",
    "read_test = create_training(TEST_DATA)\n",
    "read_test.to_disk(\"pathtofile/testingdata.spacy\")"
   ]
  },
  {
   "cell_type": "code",
   "execution_count": null,
   "id": "4ec3e617",
   "metadata": {},
   "outputs": [],
   "source": [
    "#SpaCy 3.0 formatting of validation data\n",
    "read_val = create_training(VALIDATION_DATA)\n",
    "read_val.to_disk(\"pathtofile/validationdata.spacy\")"
   ]
  },
  {
   "cell_type": "code",
   "execution_count": null,
   "id": "e32b319a",
   "metadata": {},
   "outputs": [],
   "source": [
    "#Create BILUO format FLAIR train/test/val data\n",
    "from spacy.training import offsets_to_biluo_tags\n",
    "nlp = spacy.load(\"en_core_web_sm\")\n",
    "\n",
    "with open(\"data/flairtrain.txt\",\"w\") as f:\n",
    "    for sent,tags in TRAIN_DATA:\n",
    "        doc = nlp(sent)\n",
    "        biluo = offsets_to_biluo_tags(doc,tags['entities'])\n",
    "        for word,tag in zip(doc, biluo):\n",
    "            f.write(f\"{word} {tag}\\n\")\n",
    "        f.write(\"\\n\")\n",
    "        \n",
    "with open(\"data/flairtest.txt\",\"w\") as f:\n",
    "    for sent,tags in TEST_DATA:\n",
    "        doc = nlp(sent)\n",
    "        biluo = offsets_to_biluo_tags(doc,tags['entities'])\n",
    "        for word,tag in zip(doc, biluo):\n",
    "            f.write(f\"{word} {tag}\\n\")\n",
    "        f.write(\"\\n\")\n",
    "        \n",
    "with open(\"data/flairval.txt\",\"w\") as f:\n",
    "    for sent,tags in VALIDATION_DATA:\n",
    "        doc = nlp(sent)\n",
    "        biluo = offsets_to_biluo_tags(doc,tags['entities'])\n",
    "        for word,tag in zip(doc, biluo):\n",
    "            f.write(f\"{word} {tag}\\n\")\n",
    "        f.write(\"\\n\")"
   ]
  }
 ],
 "metadata": {
  "kernelspec": {
   "display_name": "Python 3 (ipykernel)",
   "language": "python",
   "name": "python3"
  },
  "language_info": {
   "codemirror_mode": {
    "name": "ipython",
    "version": 3
   },
   "file_extension": ".py",
   "mimetype": "text/x-python",
   "name": "python",
   "nbconvert_exporter": "python",
   "pygments_lexer": "ipython3",
   "version": "3.9.0"
  }
 },
 "nbformat": 4,
 "nbformat_minor": 5
}
