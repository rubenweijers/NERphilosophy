{
 "cells": [
  {
   "cell_type": "markdown",
   "id": "5c932b11",
   "metadata": {},
   "source": [
    "In this file, data is preprocessed further.\n",
    "Additionally, data is converted into word2vec input format."
   ]
  },
  {
   "cell_type": "code",
   "execution_count": null,
   "id": "68f276c5",
   "metadata": {},
   "outputs": [],
   "source": [
    "import json\n",
    "import gensim\n",
    "from gensim.models.word2vec import Word2Vec\n",
    "from gensim.models.keyedvectors import KeyedVectors\n",
    "import multiprocessing\n",
    "import spacy\n",
    "from nltk.corpus import stopwords\n",
    "import nltk\n",
    "from gensim.parsing.preprocessing import remove_stopwords\n",
    "import pandas as pd  \n",
    "import numpy as np  \n",
    "import re  \n",
    "import nltk  \n",
    "from nltk.corpus import stopwords  \n",
    "from nltk.stem.porter import *  \n",
    "stemmer = PorterStemmer()"
   ]
  },
  {
   "cell_type": "code",
   "execution_count": null,
   "id": "01eb4517",
   "metadata": {},
   "outputs": [],
   "source": [
    "def load_data(file):\n",
    "    with open (file, \"r\", encoding=\"utf-8\") as f:\n",
    "        data = f.read()\n",
    "    return (data)"
   ]
  },
  {
   "cell_type": "code",
   "execution_count": null,
   "id": "6a46bd57",
   "metadata": {},
   "outputs": [],
   "source": [
    "def training(model_name):\n",
    "    with open(\"data/test.json\", \"r\", encoding=\"utf-8\") as f:\n",
    "        texts = json.load(f)\n",
    "        print(texts)"
   ]
  },
  {
   "cell_type": "code",
   "execution_count": null,
   "id": "295ec835",
   "metadata": {},
   "outputs": [],
   "source": [
    "stopwords = stopwords.words(\"english\")"
   ]
  },
  {
   "cell_type": "code",
   "execution_count": null,
   "id": "7f6f12ee",
   "metadata": {},
   "outputs": [],
   "source": [
    "print(stopwords)"
   ]
  },
  {
   "cell_type": "code",
   "execution_count": null,
   "id": "99e564b3",
   "metadata": {
    "scrolled": true
   },
   "outputs": [],
   "source": [
    "# -*- coding: utf-8 -*-\n",
    "import re\n",
    "alphabets= \"([A-Za-z])\"\n",
    "prefixes = \"(Mr|St|Mrs|Ms|Dr)[.]\"\n",
    "suffixes = \"(Inc|Ltd|Jr|Sr|Co)\"\n",
    "starters = \"(Mr|Mrs|Ms|Dr|He\\s|She\\s|It\\s|They\\s|Their\\s|Our\\s|We\\s|But\\s|However\\s|That\\s|This\\s|Wherever)\"\n",
    "acronyms = \"([A-Z][.][A-Z][.](?:[A-Z][.])?)\"\n",
    "websites = \"[.](com|net|org|io|gov)\"\n",
    "\n",
    "def split_into_sentences(text):\n",
    "    text = \" \" + text + \"  \"\n",
    "    text = text.replace(\"\\n\",\" \")\n",
    "    text = re.sub(prefixes,\"\\\\1<prd>\",text)\n",
    "    text = re.sub(websites,\"<prd>\\\\1\",text)\n",
    "    if \"Ph.D\" in text: text = text.replace(\"Ph.D.\",\"Ph<prd>D<prd>\")\n",
    "    text = re.sub(\"\\s\" + alphabets + \"[.] \",\" \\\\1<prd> \",text)\n",
    "    text = re.sub(acronyms+\" \"+starters,\"\\\\1<stop> \\\\2\",text)\n",
    "    text = re.sub(alphabets + \"[.]\" + alphabets + \"[.]\" + alphabets + \"[.]\",\"\\\\1<prd>\\\\2<prd>\\\\3<prd>\",text)\n",
    "    text = re.sub(alphabets + \"[.]\" + alphabets + \"[.]\",\"\\\\1<prd>\\\\2<prd>\",text)\n",
    "    text = re.sub(\" \"+suffixes+\"[.] \"+starters,\" \\\\1<stop> \\\\2\",text)\n",
    "    text = re.sub(\" \"+suffixes+\"[.]\",\" \\\\1<prd>\",text)\n",
    "    text = re.sub(\" \" + alphabets + \"[.]\",\" \\\\1<prd>\",text)\n",
    "    if \"e.g.\" in text: text = text.replace(\"e.g.\",\"e<prd>g<prd>\")\n",
    "    if \"i.e.\" in text: text = text.replace(\"i.e.\",\"i<prd>e<prd>\")\n",
    "    if \"cf.\" in text: text = text.replace(\"cf.\",\"c<prd>f<prd>\")\n",
    "    if \"Cf.\" in text: text = text.replace(\"Cf.\",\"C<prd>f<prd>\")\n",
    "    if \"”\" in text: text = text.replace(\".”\",\"”.\")\n",
    "    if \"\\\"\" in text: text = text.replace(\".\\\"\",\"\\\".\")\n",
    "    if \"!\" in text: text = text.replace(\"!\\\"\",\"\\\"!\")\n",
    "    if \"?\" in text: text = text.replace(\"?\\\"\",\"\\\"?\")\n",
    "    text = text.replace(\".\",\".<stop>\")\n",
    "    text = text.replace(\". . .\", \"\")\n",
    "    text = text.replace(\"?\",\"?<stop>\")\n",
    "    text = text.replace(\"!\",\"!<stop>\")\n",
    "    text = text.replace(\"(\",\"\").replace(\")\",\"\")\n",
    "    text = text.replace(\"[\",\"(\").replace(\"]\",\")\")\n",
    "    text = text.replace(\"<prd>\",\".\")\n",
    "    sentences = text.split(\"<stop>\")\n",
    "    sentences = sentences[:-1]\n",
    "    sentences = [s.strip() for s in sentences]\n",
    "    #data = sentences.split('.')\n",
    "    for sent in sentences:\n",
    "        sent = sent.split(' ')\n",
    "        if len(sent) < 2:\n",
    "            sentences.remove((' ').join(sent))\n",
    "        \n",
    "    return sentences\n",
    "\n",
    "cleaned = split_into_sentences(data)\n",
    "\n",
    "#with open('downloads/quinecleaned.txt','w') as target:\n",
    "#    for i in cleaned:\n",
    "#        target.write(test)\n",
    "\n",
    "#shuffled sentences after cleaning into \"shuffledcorpus.txt\"\n",
    "with open(\"downloads/shuffledcorpus.txt\",'r', encoding=\"utf-8\") as f:\n",
    "    read_shuf = f.read()\n",
    "\n",
    "for i in read_shuf:\n",
    "    print(i)"
   ]
  },
  {
   "cell_type": "code",
   "execution_count": null,
   "id": "eac2295e",
   "metadata": {},
   "outputs": [],
   "source": [
    "#additional cleaning checks\n",
    "shu = read_shuf\n",
    "if \"Cf.\" in shu: \n",
    "    shu = shu.replace(\"Cf.\",\"C<prd>f<prd>\")\n",
    "    \n",
    "for sent in shu:\n",
    "        sent = sent.split(' ')\n",
    "for i in shu:\n",
    "    print(i)"
   ]
  },
  {
   "cell_type": "code",
   "execution_count": null,
   "id": "d3f4ddc2",
   "metadata": {},
   "outputs": [],
   "source": [
    "#word2vec input format: list of list of sentences\n",
    "from gensim.models import Word2Vec\n",
    "from gensim.models.word2vec import LineSentence\n",
    "\n",
    "#these do not need to be shuffled, since its not for annotation\n",
    "sentences = LineSentence(\"downloads/quinecleaned.txt\")\n",
    "\n",
    "for sentence in sentences:\n",
    "    print(sentence)"
   ]
  }
 ],
 "metadata": {
  "kernelspec": {
   "display_name": "Python 3 (ipykernel)",
   "language": "python",
   "name": "python3"
  },
  "language_info": {
   "codemirror_mode": {
    "name": "ipython",
    "version": 3
   },
   "file_extension": ".py",
   "mimetype": "text/x-python",
   "name": "python",
   "nbconvert_exporter": "python",
   "pygments_lexer": "ipython3",
   "version": "3.9.0"
  }
 },
 "nbformat": 4,
 "nbformat_minor": 5
}
